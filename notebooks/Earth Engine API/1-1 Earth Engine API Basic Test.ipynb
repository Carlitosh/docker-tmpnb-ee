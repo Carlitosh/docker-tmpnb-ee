{
 "cells": [
  {
   "cell_type": "markdown",
   "metadata": {},
   "source": [
    "# Initialize Earth Engine"
   ]
  },
  {
   "cell_type": "code",
   "execution_count": 1,
   "metadata": {
    "collapsed": false
   },
   "outputs": [],
   "source": [
    "import ee\n",
    "ee.Initialize()"
   ]
  },
  {
   "cell_type": "markdown",
   "metadata": {},
   "source": [
    "# Explore an Image object"
   ]
  },
  {
   "cell_type": "markdown",
   "metadata": {},
   "source": [
    "Display a list of methods for Earth Engine Image objects."
   ]
  },
  {
   "cell_type": "code",
   "execution_count": 2,
   "metadata": {
    "collapsed": false
   },
   "outputs": [
    {
     "data": {
      "text/plain": [
       "['And',\n",
       " 'Not',\n",
       " 'Or',\n",
       " 'abs',\n",
       " 'acos',\n",
       " 'add',\n",
       " 'addBands',\n",
       " 'args',\n",
       " 'arrayAccum',\n",
       " 'arrayDimensions',\n",
       " 'arrayFlatten',\n",
       " 'arrayGet',\n",
       " 'arrayLength',\n",
       " 'arrayLengths',\n",
       " 'arrayMask',\n",
       " 'arrayProject',\n",
       " 'arrayReduce',\n",
       " 'arrayRepeat',\n",
       " 'arraySlice',\n",
       " 'arraySort',\n",
       " 'arrayTranspose',\n",
       " 'asin',\n",
       " 'atan',\n",
       " 'atan2',\n",
       " 'bandNames',\n",
       " 'bandTypes',\n",
       " 'bilinearSample',\n",
       " 'bitwiseAnd',\n",
       " 'bitwiseNot',\n",
       " 'bitwiseOr',\n",
       " 'bitwiseXor',\n",
       " 'bitwise_and',\n",
       " 'bitwise_not',\n",
       " 'bitwise_or',\n",
       " 'bitwise_xor',\n",
       " 'byte',\n",
       " 'cast',\n",
       " 'cat',\n",
       " 'ceil',\n",
       " 'changeProj',\n",
       " 'clamp',\n",
       " 'classify',\n",
       " 'clip',\n",
       " 'combine_',\n",
       " 'connectedComponents',\n",
       " 'connectedPixelCount',\n",
       " 'constant',\n",
       " 'convolve',\n",
       " 'copyProperties',\n",
       " 'cos',\n",
       " 'cosh',\n",
       " 'decisionTree',\n",
       " 'derivative',\n",
       " 'distance',\n",
       " 'divide',\n",
       " 'double',\n",
       " 'encode',\n",
       " 'entropy',\n",
       " 'eq',\n",
       " 'exp',\n",
       " 'expression',\n",
       " 'fastGaussianBlur',\n",
       " 'first',\n",
       " 'firstNonZero',\n",
       " 'first_nonzero',\n",
       " 'float',\n",
       " 'floor',\n",
       " 'focal_max',\n",
       " 'focal_mean',\n",
       " 'focal_median',\n",
       " 'focal_min',\n",
       " 'focal_mode',\n",
       " 'freeze',\n",
       " 'func',\n",
       " 'geometry',\n",
       " 'get',\n",
       " 'getDownloadURL',\n",
       " 'getDownloadUrl',\n",
       " 'getInfo',\n",
       " 'getMapId',\n",
       " 'getThumbURL',\n",
       " 'getThumbUrl',\n",
       " 'glcmTexture',\n",
       " 'gradient',\n",
       " 'gt',\n",
       " 'gte',\n",
       " 'hsvtorgb',\n",
       " 'hypot',\n",
       " 'id',\n",
       " 'initialize',\n",
       " 'int',\n",
       " 'int16',\n",
       " 'int32',\n",
       " 'int64',\n",
       " 'int8',\n",
       " 'interpolate',\n",
       " 'isVariable',\n",
       " 'lacunarity',\n",
       " 'leftShift',\n",
       " 'left_shift',\n",
       " 'load',\n",
       " 'log',\n",
       " 'log10',\n",
       " 'long',\n",
       " 'lt',\n",
       " 'lte',\n",
       " 'mask',\n",
       " 'matrixDeterminant',\n",
       " 'matrixDiagonal',\n",
       " 'matrixFnorm',\n",
       " 'matrixIdentity',\n",
       " 'matrixInverse',\n",
       " 'matrixMultiply',\n",
       " 'matrixPseudoInverse',\n",
       " 'matrixSolve',\n",
       " 'matrixToDiag',\n",
       " 'matrixTrace',\n",
       " 'matrixTranspose',\n",
       " 'max',\n",
       " 'metadata',\n",
       " 'min',\n",
       " 'mod',\n",
       " 'multiply',\n",
       " 'name',\n",
       " 'neighborhoodToBands',\n",
       " 'neq',\n",
       " 'normalizedDifference',\n",
       " 'paint',\n",
       " 'parseExpression',\n",
       " 'pixelArea',\n",
       " 'pixelLonLat',\n",
       " 'polynomial',\n",
       " 'pow',\n",
       " 'projection',\n",
       " 'propertyNames',\n",
       " 'randomVisualizer',\n",
       " 'reduce',\n",
       " 'reduceNeighborhood',\n",
       " 'reduceRegion',\n",
       " 'reduceRegions',\n",
       " 'reduceToVectors',\n",
       " 'reduceToVectorsStreaming',\n",
       " 'remap',\n",
       " 'reproject',\n",
       " 'resample',\n",
       " 'reset',\n",
       " 'rgb',\n",
       " 'rgbtohsv',\n",
       " 'rightShift',\n",
       " 'right_shift',\n",
       " 'round',\n",
       " 'sample',\n",
       " 'select',\n",
       " 'serialize',\n",
       " 'set',\n",
       " 'setMulti',\n",
       " 'short',\n",
       " 'sin',\n",
       " 'sinh',\n",
       " 'sldStyle',\n",
       " 'slice',\n",
       " 'sqrt',\n",
       " 'stats',\n",
       " 'subtract',\n",
       " 'tan',\n",
       " 'tanh',\n",
       " 'timesatValue',\n",
       " 'toArray',\n",
       " 'toByte',\n",
       " 'toDouble',\n",
       " 'toFloat',\n",
       " 'toInt',\n",
       " 'toInt16',\n",
       " 'toInt32',\n",
       " 'toInt64',\n",
       " 'toInt8',\n",
       " 'toLong',\n",
       " 'toShort',\n",
       " 'toUint16',\n",
       " 'toUint32',\n",
       " 'toUint8',\n",
       " 'trainClassifier',\n",
       " 'translate',\n",
       " 'uint16',\n",
       " 'uint32',\n",
       " 'uint8',\n",
       " 'unitScale',\n",
       " 'unmix',\n",
       " 'varName',\n",
       " 'visualize',\n",
       " 'where',\n",
       " 'zeroCrossing']"
      ]
     },
     "execution_count": 2,
     "metadata": {},
     "output_type": "execute_result"
    }
   ],
   "source": [
    "image_object = ee.Image()\n",
    "[method for method in dir(image_object) if not method.startswith('_')]"
   ]
  },
  {
   "cell_type": "code",
   "execution_count": 3,
   "metadata": {
    "collapsed": false
   },
   "outputs": [],
   "source": [
    "image = ee.Image('srtm90_v4')"
   ]
  },
  {
   "cell_type": "markdown",
   "metadata": {},
   "source": [
    "Display an Earth Engine generated image, using IPython's ability to render an image obtained from a URL."
   ]
  },
  {
   "cell_type": "code",
   "execution_count": 4,
   "metadata": {
    "collapsed": false
   },
   "outputs": [
    {
     "data": {
      "text/html": [
       "<img src=\"https://earthengine.googleapis.com//api/thumb?thumbid=d3309596490160c51ecf1e0ef470ccf3&token=1d65d48714a90239f432ea2c033cd467\"/>"
      ],
      "text/plain": [
       "<IPython.core.display.Image object>"
      ]
     },
     "execution_count": 4,
     "metadata": {},
     "output_type": "execute_result"
    }
   ],
   "source": [
    "from IPython.display import Image\n",
    "Image(url=image.getThumbUrl({'min':0, 'max':3000}))"
   ]
  }
 ],
 "metadata": {
  "kernelspec": {
   "display_name": "Python 2",
   "language": "python",
   "name": "python2"
  },
  "language_info": {
   "codemirror_mode": {
    "name": "ipython",
    "version": 2
   },
   "file_extension": ".py",
   "mimetype": "text/x-python",
   "name": "python",
   "nbconvert_exporter": "python",
   "pygments_lexer": "ipython2",
   "version": "2.7.10"
  }
 },
 "nbformat": 4,
 "nbformat_minor": 0
}
