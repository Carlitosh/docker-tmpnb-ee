{
 "cells": [
  {
   "cell_type": "markdown",
   "metadata": {},
   "source": [
    "# Initialize Earth Engine"
   ]
  },
  {
   "cell_type": "code",
   "execution_count": 1,
   "metadata": {
    "collapsed": true
   },
   "outputs": [],
   "source": [
    "import ee\n",
    "ee.Initialize()"
   ]
  },
  {
   "cell_type": "markdown",
   "metadata": {},
   "source": [
    "# Python Package Imports"
   ]
  },
  {
   "cell_type": "code",
   "execution_count": 2,
   "metadata": {
    "collapsed": false
   },
   "outputs": [
    {
     "name": "stderr",
     "output_type": "stream",
     "text": [
      ":0: FutureWarning: IPython widgets are experimental and may change in the future.\n"
     ]
    }
   ],
   "source": [
    "from IPython.display import Image\n",
    "from IPython.html.widgets import interact, interactive, fixed\n",
    "from IPython.display import display\n",
    "from IPython.display import HTML"
   ]
  },
  {
   "cell_type": "markdown",
   "metadata": {},
   "source": [
    "# Code"
   ]
  },
  {
   "cell_type": "code",
   "execution_count": 3,
   "metadata": {
    "collapsed": false
   },
   "outputs": [
    {
     "name": "stdout",
     "output_type": "stream",
     "text": [
      "https://earthengine.googleapis.com//api/thumb?thumbid=b8897962c07b622881ae5482b7ca0b3f&token=d21946e0a825f453d7904845e77a89ad\n"
     ]
    },
    {
     "data": {
      "text/html": [
       "<img src=\"https://earthengine.googleapis.com//api/thumb?thumbid=b8897962c07b622881ae5482b7ca0b3f&token=d21946e0a825f453d7904845e77a89ad\"/>"
      ],
      "text/plain": [
       "<IPython.core.display.Image object>"
      ]
     },
     "metadata": {},
     "output_type": "display_data"
    }
   ],
   "source": [
    "image = ee.Image('LT5_L1T_8DAY_EVI/20110618')\n",
    "\n",
    "# Define the region of interest\n",
    "point = ee.Geometry.Point(-101.05259, 37.93418)\n",
    "region = point.buffer(10000).bounds().getInfo()['coordinates']\n",
    "\n",
    "canny = ee.Algorithms.CannyEdgeDetector(image, 0.7)\n",
    "\n",
    "# Mask the image with itself to get rid of 0 pixels.\n",
    "canny = canny.mask(canny)\n",
    "\n",
    "combined = ee.ImageCollection([\n",
    "        image.visualize(min=0, max=1, forceRgbOutput=True),\n",
    "        canny.visualize(min=0, max=1, palette=[\"FF0000\"], forceRgbOutput=True)\n",
    "    ]).mosaic()\n",
    "url = combined.getThumbUrl({'region':region})\n",
    "print(url)\n",
    "display(Image(url=url))"
   ]
  },
  {
   "cell_type": "code",
   "execution_count": 4,
   "metadata": {
    "collapsed": true
   },
   "outputs": [],
   "source": [
    "def edit_image(image, threshold=0.25):\n",
    "    canny = ee.Algorithms.CannyEdgeDetector(image, threshold)\n",
    "\n",
    "    canny = canny.mask(canny)\n",
    "\n",
    "    combined = ee.ImageCollection([\n",
    "        #image.visualize(min=0, max=1, forceRgbOutput=True),\n",
    "        canny.visualize(min=0, max=1, palette=[\"FF0000\"], forceRgbOutput=True)\n",
    "    ]).mosaic()\n",
    "    new_image = Image(url=combined.getThumbUrl({'region':region}))\n",
    "    display(new_image)\n",
    "    return new_image"
   ]
  },
  {
   "cell_type": "markdown",
   "metadata": {},
   "source": [
    "# An interactive version"
   ]
  },
  {
   "cell_type": "code",
   "execution_count": 5,
   "metadata": {
    "collapsed": false
   },
   "outputs": [
    {
     "data": {
      "text/html": [
       "<img src=\"https://earthengine.googleapis.com//api/thumb?thumbid=11664339ffb1721bb3c56c3d57b4ae35&token=5c47e4ad75202714bb1fb79f5c833648\"/>"
      ],
      "text/plain": [
       "<IPython.core.display.Image object>"
      ]
     },
     "metadata": {},
     "output_type": "display_data"
    }
   ],
   "source": [
    "slider = interactive(edit_image, image=fixed(image), threshold=(0.0,1.5,0.25))\n",
    "display(slider)"
   ]
  },
  {
   "cell_type": "code",
   "execution_count": null,
   "metadata": {
    "collapsed": true
   },
   "outputs": [],
   "source": []
  }
 ],
 "metadata": {
  "kernelspec": {
   "display_name": "Python 2",
   "language": "python",
   "name": "python2"
  },
  "language_info": {
   "codemirror_mode": {
    "name": "ipython",
    "version": 2
   },
   "file_extension": ".py",
   "mimetype": "text/x-python",
   "name": "python",
   "nbconvert_exporter": "python",
   "pygments_lexer": "ipython2",
   "version": "2.7.10"
  }
 },
 "nbformat": 4,
 "nbformat_minor": 0
}
