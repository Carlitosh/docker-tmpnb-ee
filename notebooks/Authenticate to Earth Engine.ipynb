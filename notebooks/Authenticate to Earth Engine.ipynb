{
 "cells": [
  {
   "cell_type": "markdown",
   "metadata": {},
   "source": [
    "# How to authenticate this server for accessing Earth Engine\n",
    "\n",
    "## Step 1 - Click on the following link\n",
    "[Link to generate an authentication code for accessing Earth Engine](https://accounts.google.com/o/oauth2/auth?scope=https%3A%2F%2Fwww.googleapi\n",
    "s.com%2Fauth%2Fearthengine.readonly&redirect_uri=urn%3Aietf%3Awg%3Aoauth%3A2.0%3Aoob&response_type=code&clie\n",
    "nt_id=517222506229-vsmmajv00ul0bs7p89v5m89qs8eb9359.apps.googleusercontent.com)\n",
    "  \n",
    "## Step 2 - Click on Accept\n",
    "\n",
    "## Step 3 - Copy the authentication code that is returned\n",
    "\n",
    "## Step 4 - Paste the authentication code below"
   ]
  },
  {
   "cell_type": "code",
   "execution_count": null,
   "metadata": {
    "collapsed": true
   },
   "outputs": [],
   "source": [
    "auth_code ='PASTE_AUTHENTICATION_CODE_HERE'"
   ]
  },
  {
   "cell_type": "markdown",
   "metadata": {},
   "source": [
    "## Step 5 - From the Cell menu, select \"Run All\""
   ]
  },
  {
   "cell_type": "code",
   "execution_count": null,
   "metadata": {
    "collapsed": false
   },
   "outputs": [],
   "source": [
    "import errno\n",
    "import json\n",
    "import os\n",
    "import urllib\n",
    "import urllib2\n",
    "\n",
    "from ee.oauthinfo import OAuthInfo\n",
    "\n",
    "# This URI prompts user to copy and paste a code after successful\n",
    "# authorization.\n",
    "redirect_uri = 'urn:ietf:wg:oauth:2.0:oob'\n",
    "\n",
    "token_request_params = {\n",
    "  'code': auth_code,\n",
    "  'client_id': OAuthInfo.CLIENT_ID,\n",
    "  'client_secret': OAuthInfo.CLIENT_SECRET,\n",
    "  'redirect_uri': redirect_uri,\n",
    "  'grant_type': 'authorization_code'\n",
    "}\n",
    "\n",
    "refresh_token = None\n",
    "try:\n",
    "  response = urllib2.urlopen('https://accounts.google.com/o/oauth2/token',\n",
    "                           urllib.urlencode(token_request_params)).read()\n",
    "  tokens = json.loads(response)\n",
    "  refresh_token = tokens['refresh_token']\n",
    "except urllib2.HTTPError, e:\n",
    "  raise Exception('Problem requesting tokens.  Please try again.  %s %s' %\n",
    "                (e, e.read()))\n",
    "\n",
    "### Write refresh token to filesystem for later use\n",
    "credentials_path = OAuthInfo.credentials_path()\n",
    "dirname = os.path.dirname(credentials_path)\n",
    "try:\n",
    "  os.makedirs(dirname)\n",
    "except OSError, e:\n",
    "  if e.errno != errno.EEXIST:\n",
    "    raise Exception('Error creating %s: %s' % (dirname, e))\n",
    "\n",
    "  json.dump({'refresh_token': refresh_token}, open(credentials_path, 'w'))\n",
    "\n",
    "  print '\\nSuccessfully saved authorization to %s' % credentials_path"
   ]
  },
  {
   "cell_type": "markdown",
   "metadata": {},
   "source": [
    "## Step 6 - Verify successful authentication to Earth Engine"
   ]
  },
  {
   "cell_type": "code",
   "execution_count": null,
   "metadata": {
    "collapsed": false
   },
   "outputs": [],
   "source": [
    "import ee\n",
    "try:\n",
    "  ee.Initialize()\n",
    "  print '\\nSuccessfully authenticated to Earth Engine!'\n",
    "except e:\n",
    "  print '\\nOops. Something went wrong!'\n"
   ]
  },
  {
   "cell_type": "code",
   "execution_count": null,
   "metadata": {
    "collapsed": true
   },
   "outputs": [],
   "source": []
  }
 ],
 "metadata": {
  "kernelspec": {
   "display_name": "Python 2",
   "language": "python",
   "name": "python2"
  },
  "language_info": {
   "codemirror_mode": {
    "name": "ipython",
    "version": 2
   },
   "file_extension": ".py",
   "mimetype": "text/x-python",
   "name": "python",
   "nbconvert_exporter": "python",
   "pygments_lexer": "ipython2",
   "version": "2.7.9"
  }
 },
 "nbformat": 4,
 "nbformat_minor": 0
}
